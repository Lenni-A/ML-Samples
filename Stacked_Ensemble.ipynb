{
 "cells": [
  {
   "cell_type": "code",
   "execution_count": 1,
   "metadata": {},
   "outputs": [],
   "source": [
    "from sklearn.model_selection import train_test_split\n",
    "from sklearn.linear_model import LogisticRegression\n",
    "from sklearn.ensemble import RandomForestClassifier\n",
    "from sklearn.neighbors import KNeighborsClassifier\n",
    "from sklearn.metrics import accuracy_score\n",
    "from sklearn.datasets import load_iris"
   ]
  },
  {
   "cell_type": "code",
   "execution_count": null,
   "metadata": {},
   "outputs": [],
   "source": [
    "data = load_iris()\n",
    "X = data.data\n",
    "y = data.target\n",
    "\n",
    "# Split the data into training and testing sets\n",
    "X_train, X_test, y_train, y_test = train_test_split(X, y, test_size=0.2, random_state=42)\n",
    "\n",
    "# Initialize individual classifiers\n",
    "logreg = LogisticRegression()\n",
    "rf = RandomForestClassifier()\n",
    "knn = KNeighborsClassifier()\n",
    "\n",
    "# Fit the classifiers on the training data\n",
    "logreg.fit(X_train, y_train)\n",
    "rf.fit(X_train, y_train)\n",
    "knn.fit(X_train, y_train)\n",
    "\n",
    "# Make predictions using the trained classifiers\n",
    "logreg_pred = logreg.predict(X_test)\n",
    "rf_pred = rf.predict(X_test)\n",
    "knn_pred = knn.predict(X_test)\n",
    "\n",
    "# Combine the predictions by stacking them as features\n",
    "stacked_features = [logreg_pred, rf_pred, knn_pred]\n",
    "X_stacked = np.column_stack(stacked_features)\n",
    "\n",
    "# Initialize the meta-classifier\n",
    "meta_classifier = LogisticRegression()\n",
    "\n",
    "# Fit the meta-classifier on the stacked features\n",
    "meta_classifier.fit(X_stacked, y_test)\n",
    "\n",
    "# Make predictions using the stacked ensemble model\n",
    "stacked_pred = meta_classifier.predict(X_stacked)\n",
    "\n",
    "# Calculate the accuracy of the stacked ensemble predictions\n",
    "accuracy = accuracy_score(y_test, stacked_pred)\n",
    "print(\"Stacked Ensemble Accuracy:\", accuracy)"
   ]
  }
 ],
 "metadata": {
  "kernelspec": {
   "display_name": "Python 3",
   "language": "python",
   "name": "python3"
  },
  "language_info": {
   "codemirror_mode": {
    "name": "ipython",
    "version": 3
   },
   "file_extension": ".py",
   "mimetype": "text/x-python",
   "name": "python",
   "nbconvert_exporter": "python",
   "pygments_lexer": "ipython3",
   "version": "3.11.1"
  },
  "orig_nbformat": 4
 },
 "nbformat": 4,
 "nbformat_minor": 2
}
