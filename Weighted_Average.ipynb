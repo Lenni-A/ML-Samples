{
 "cells": [
  {
   "cell_type": "code",
   "execution_count": 1,
   "metadata": {},
   "outputs": [],
   "source": [
    "from sklearn.model_selection import train_test_split\n",
    "from sklearn.linear_model import LogisticRegression\n",
    "from sklearn.tree import DecisionTreeClassifier\n",
    "from sklearn.metrics import accuracy_score\n",
    "from sklearn.datasets import load_iris"
   ]
  },
  {
   "cell_type": "code",
   "execution_count": null,
   "metadata": {},
   "outputs": [],
   "source": [
    "data = load_iris()\n",
    "X = data.data\n",
    "y = data.target\n",
    "\n",
    "# Split the data into training and testing sets\n",
    "X_train, X_test, y_train, y_test = train_test_split(X, y, test_size=0.2, random_state=42)\n",
    "\n",
    "# Initialize individual classifiers\n",
    "logreg = LogisticRegression()\n",
    "dt = DecisionTreeClassifier()\n",
    "\n",
    "# Fit the classifiers on the training data\n",
    "logreg.fit(X_train, y_train)\n",
    "dt.fit(X_train, y_train)\n",
    "\n",
    "# Make predictions using the trained classifiers\n",
    "logreg_pred = logreg.predict(X_test)\n",
    "dt_pred = dt.predict(X_test)\n",
    "\n",
    "# Combine the predictions using a weighted average\n",
    "weighted_pred = (0.7 * logreg_pred) + (0.3 * dt_pred)\n",
    "\n",
    "# Convert the combined predictions to class labels\n",
    "combined_pred_labels = [round(pred) for pred in weighted_pred]\n",
    "\n",
    "# Calculate the accuracy of the combined predictions\n",
    "accuracy = accuracy_score(y_test, combined_pred_labels)\n",
    "print(\"Combined Accuracy:\", accuracy)"
   ]
  }
 ],
 "metadata": {
  "kernelspec": {
   "display_name": "Python 3",
   "language": "python",
   "name": "python3"
  },
  "language_info": {
   "codemirror_mode": {
    "name": "ipython",
    "version": 3
   },
   "file_extension": ".py",
   "mimetype": "text/x-python",
   "name": "python",
   "nbconvert_exporter": "python",
   "pygments_lexer": "ipython3",
   "version": "3.11.1"
  },
  "orig_nbformat": 4
 },
 "nbformat": 4,
 "nbformat_minor": 2
}
